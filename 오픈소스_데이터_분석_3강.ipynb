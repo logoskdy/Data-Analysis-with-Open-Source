{
 "cells": [
  {
   "cell_type": "markdown",
   "metadata": {
    "id": "view-in-github",
    "colab_type": "text"
   },
   "source": [
    "<a href=\"https://colab.research.google.com/github/logoskdy/Data-Analysis-with-Open-Source/blob/main/%EC%98%A4%ED%94%88%EC%86%8C%EC%8A%A4_%EB%8D%B0%EC%9D%B4%ED%84%B0_%EB%B6%84%EC%84%9D_3%EA%B0%95.ipynb\" target=\"_parent\"><img src=\"https://colab.research.google.com/assets/colab-badge.svg\" alt=\"Open In Colab\"/></a>"
   ]
  },
  {
   "cell_type": "markdown",
   "metadata": {
    "id": "DkPKaAsoRq5Q"
   },
   "source": [
    "\n",
    "\n",
    "# 오픈소스 기반 데이터 분석 3강 - 데이터 분석을 위한 파이썬 2\n"
   ]
  },
  {
   "cell_type": "markdown",
   "metadata": {
    "id": "-I7BVVlnRrB0"
   },
   "source": [
    "\n",
    "\n",
    "```\n",
    "# 코드로 형식 지정됨\n",
    "```\n",
    "\n",
    "## 3-1 언패킹"
   ]
  },
  {
   "cell_type": "code",
   "metadata": {
    "id": "2Y2HEiaiRwAI",
    "colab": {
     "base_uri": "https://localhost:8080/"
    },
    "outputId": "9c9bf215-f287-4072-ce82-646c188cf738",
    "ExecuteTime": {
     "end_time": "2025-09-09T00:03:39.291268Z",
     "start_time": "2025-09-09T00:03:39.268257Z"
    }
   },
   "source": [
    "coordinates = (10, 20)\n",
    "\n",
    "# 튜플 언패킹\n",
    "x, y = coordinates\n",
    "print(f'x좌표: {x}, y좌표: {y}')\n",
    "\n",
    "rgb = [255, 128, 0]\n",
    "# 리스트 언패킹\n",
    "red, green, blue = rgb\n",
    "print(f'빨강: {red}, 초록: {green}, 파랑: {blue}')\n",
    "\n",
    "word = 'ABC'\n",
    "# 문자열 언패킹\n",
    "first, second, third = word\n",
    "print(f'첫 번째 문자: {first}, 두 번째 문자: {second}, 세 번째 문자: {third}')"
   ],
   "outputs": [
    {
     "name": "stdout",
     "output_type": "stream",
     "text": [
      "x좌표: 10, y좌표: 20\n",
      "빨강: 255, 초록: 128, 파랑: 0\n",
      "첫 번째 문자: A, 두 번째 문자: B, 세 번째 문자: C\n"
     ]
    }
   ],
   "execution_count": 1
  },
  {
   "cell_type": "code",
   "metadata": {
    "id": "IO8bsKekR0W_",
    "colab": {
     "base_uri": "https://localhost:8080/"
    },
    "outputId": "b3633061-fd1c-489f-8f9d-d0dbcd9594fe",
    "ExecuteTime": {
     "end_time": "2025-09-09T00:03:55.147766Z",
     "start_time": "2025-09-09T00:03:55.115476Z"
    }
   },
   "source": [
    "def get_dataset_stats(values):\n",
    "  return min(values), max(values), sum(values) / len(values)\n",
    "\n",
    "data = [12, 8, 21, 17, 5, 32, 14]\n",
    "minimum, maximum, average = get_dataset_stats(data)\n",
    "# 함수값 return 언패킹\n",
    "\n",
    "print(f'최솟값: {minimum}, 최댓값: {maximum}, 평균: {average:.2f}')"
   ],
   "outputs": [
    {
     "name": "stdout",
     "output_type": "stream",
     "text": [
      "최솟값: 5, 최댓값: 32, 평균: 15.57\n"
     ]
    }
   ],
   "execution_count": 2
  },
  {
   "cell_type": "code",
   "metadata": {
    "id": "60qOf7uxVdAg",
    "colab": {
     "base_uri": "https://localhost:8080/"
    },
    "outputId": "c6ed25e8-568a-4fb7-d7bc-96be5499892d",
    "ExecuteTime": {
     "end_time": "2025-09-09T00:04:21.491446Z",
     "start_time": "2025-09-09T00:04:21.487595Z"
    }
   },
   "source": [
    "student_scores = [\n",
    "    ('김철수', 85, 92, 78),\n",
    "    ('이영희', 92, 88, 95),\n",
    "    ('박지민', 75, 83, 90)\n",
    "]\n",
    "\n",
    "# 반복문에서 언패킹 사용\n",
    "for name, database, python, cloud in student_scores:\n",
    "  average = (database + python + cloud) / 3\n",
    "  print(f'{name}의 평균 점수: {average:.1f}')"
   ],
   "outputs": [
    {
     "name": "stdout",
     "output_type": "stream",
     "text": [
      "김철수의 평균 점수: 85.0\n",
      "이영희의 평균 점수: 91.7\n",
      "박지민의 평균 점수: 82.7\n"
     ]
    }
   ],
   "execution_count": 4
  },
  {
   "cell_type": "code",
   "execution_count": null,
   "metadata": {
    "id": "JpmgdsW9V0CY",
    "colab": {
     "base_uri": "https://localhost:8080/"
    },
    "outputId": "b8e51baa-a6e9-4501-c251-31387f2a4f30"
   },
   "outputs": [
    {
     "output_type": "stream",
     "name": "stdout",
     "text": [
      "1월 판매액: 1200\n",
      "2월 판매액: 1350\n",
      "나머지 월 판매액: [1420, 1500, 1300, 1580, 1620, 1700, 1800, 1850, 1900, 2000]\n",
      "첫 달(1월) 판매액: 1200\n",
      "마지막 달(12월) 판매액: 2000\n",
      "중간 달(2~11월)의 판매액: [1350, 1420, 1500, 1300, 1580, 1620, 1700, 1800, 1850, 1900]\n"
     ]
    }
   ],
   "source": [
    "monthly_sales = [1200, 1350, 1420, 1500, 1300, 1580, 1620, 1700, 1800, 1850, 1900, 2000]\n",
    "\n",
    "# 1월, 2월 및 나머지 월 매출액\n",
    "first, second, *remaining = monthly_sales\n",
    "print(f'1월 판매액: {first}')\n",
    "print(f'2월 판매액: {second}')\n",
    "print(f'나머지 월 판매액: {remaining}')\n",
    "\n",
    "# 1월, 12월 및 나머지 월 매출액\n",
    "fist, *middle, last = monthly_sales\n",
    "print(f'첫 달(1월) 판매액: {first}')\n",
    "print(f'마지막 달(12월) 판매액: {last}')\n",
    "print(f'중간 달(2~11월)의 판매액: {middle}')"
   ]
  },
  {
   "cell_type": "markdown",
   "metadata": {
    "id": "RLfPaa1ZiqIC"
   },
   "source": [
    "## 3-5 언더스코어"
   ]
  },
  {
   "cell_type": "code",
   "execution_count": null,
   "metadata": {
    "id": "cRC8x3_iW0im",
    "colab": {
     "base_uri": "https://localhost:8080/"
    },
    "outputId": "5e654a73-abf9-49bc-9072-1a3cb7e8a2b4"
   },
   "outputs": [
    {
     "output_type": "stream",
     "name": "stdout",
     "text": [
      "김철수의 성적: 3.8\n",
      "이영희의 성적: 4.2\n",
      "박민수의 성적: 3.5\n"
     ]
    }
   ],
   "source": [
    "students = [\n",
    "    (20251234, '김철수', '컴퓨터과학', 2, 3.8),\n",
    "    (20265678, '이영희', '생활과학부', 3, 4.2),\n",
    "    (20243456, '박민수', '사회복지학과', 1, 3.5)\n",
    "]\n",
    "\n",
    "# 이름 및 성적 만 출력\n",
    "for _, name, _, _, grade in students:\n",
    "    print(f'{name}의 성적: {grade}')"
   ]
  },
  {
   "cell_type": "code",
   "metadata": {
    "id": "oYTUmCiXzIvV",
    "colab": {
     "base_uri": "https://localhost:8080/"
    },
    "outputId": "5c5dcbc6-2035-46f8-a19f-963063349394",
    "ExecuteTime": {
     "end_time": "2025-09-09T00:06:20.329789Z",
     "start_time": "2025-09-09T00:06:20.320237Z"
    }
   },
   "source": [
    "def get_coordinates( ):\n",
    "    return (10, 20, 30)\n",
    "_, y, _  = get_coordinates()\n",
    "# 함수 return 값 언더스코어 사용\n",
    "\n",
    "\n",
    "print(y)"
   ],
   "outputs": [
    {
     "name": "stdout",
     "output_type": "stream",
     "text": [
      "20\n"
     ]
    }
   ],
   "execution_count": 5
  },
  {
   "cell_type": "markdown",
   "metadata": {
    "id": "bkA3HL5QzIvV"
   },
   "source": [
    "## 3-2 예외 처리"
   ]
  },
  {
   "cell_type": "code",
   "metadata": {
    "id": "IgUsqEAgzIvV",
    "colab": {
     "base_uri": "https://localhost:8080/"
    },
    "outputId": "cfc8bf7e-633e-4c9d-d122-ed73555ca114",
    "ExecuteTime": {
     "end_time": "2025-09-09T00:06:38.864151Z",
     "start_time": "2025-09-09T00:06:34.152102Z"
    }
   },
   "source": [
    "number = int(input('정수를 입력하세요: '))\n",
    "result = 10 / number\n",
    "print(f'결과: {result}')"
   ],
   "outputs": [
    {
     "name": "stdout",
     "output_type": "stream",
     "text": [
      "결과: 0.43478260869565216\n"
     ]
    }
   ],
   "execution_count": 6
  },
  {
   "cell_type": "code",
   "metadata": {
    "id": "sGaFzT-WzdQF",
    "colab": {
     "base_uri": "https://localhost:8080/"
    },
    "outputId": "089796d6-5583-4229-8465-944c8d2784e1",
    "ExecuteTime": {
     "end_time": "2025-09-09T00:06:56.789196Z",
     "start_time": "2025-09-09T00:06:54.371790Z"
    }
   },
   "source": [
    "number = int(input('정수를 입력하세요: '))\n",
    "\n",
    "try:\n",
    "    result = 10 / number\n",
    "    print(f'결과: {result}')\n",
    "except ZeroDivisionError:\n",
    "    print('0으로 나눌 수 없습니다.')"
   ],
   "outputs": [
    {
     "name": "stdout",
     "output_type": "stream",
     "text": [
      "결과: 5.0\n"
     ]
    }
   ],
   "execution_count": 8
  },
  {
   "cell_type": "code",
   "metadata": {
    "id": "aJycqfJvzdGc",
    "colab": {
     "base_uri": "https://localhost:8080/"
    },
    "outputId": "d5a0b672-2fbd-495c-8ad3-ae4bfaab730f",
    "ExecuteTime": {
     "end_time": "2025-09-09T00:07:53.017711Z",
     "start_time": "2025-09-09T00:07:50.670212Z"
    }
   },
   "source": [
    "try:\n",
    "    number = int(input('숫자를 입력하세요: '))\n",
    "    result = 10 / number\n",
    "    print(f'결과: {result}')\n",
    "\n",
    "except ValueError:\n",
    "    print('유효한 숫자를 입력해야 합니다.')\n",
    "\n",
    "except ZeroDivisionError:\n",
    "    print('0으로 나눌 수 없습니다.')\n"
   ],
   "outputs": [
    {
     "name": "stdout",
     "output_type": "stream",
     "text": [
      "유효한 숫자를 입력해야 합니다.\n"
     ]
    }
   ],
   "execution_count": 12
  },
  {
   "cell_type": "code",
   "metadata": {
    "id": "lPcWWLiJ0ws4",
    "colab": {
     "base_uri": "https://localhost:8080/",
     "height": 221
    },
    "outputId": "ef888d17-6562-4e65-c1e6-2d1b956873f4",
    "ExecuteTime": {
     "end_time": "2025-09-09T00:07:58.876684Z",
     "start_time": "2025-09-09T00:07:58.708742Z"
    }
   },
   "source": [
    "try:\n",
    "    file = open('data.csv', 'r')\n",
    "    content = file.read( )\n",
    "    print(content)\n",
    "except FileNotFoundError:\n",
    "    print(\"파일을 찾을 수 없습니다.\")\n",
    "finally:\n",
    "    print(\"파일 작업 종료.\")\n",
    "    file.close()"
   ],
   "outputs": [
    {
     "name": "stdout",
     "output_type": "stream",
     "text": [
      "파일을 찾을 수 없습니다.\n",
      "파일 작업 종료.\n"
     ]
    },
    {
     "ename": "NameError",
     "evalue": "name 'file' is not defined",
     "output_type": "error",
     "traceback": [
      "\u001B[0;31m---------------------------------------------------------------------------\u001B[0m",
      "\u001B[0;31mNameError\u001B[0m                                 Traceback (most recent call last)",
      "Cell \u001B[0;32mIn[13], line 9\u001B[0m\n\u001B[1;32m      7\u001B[0m \u001B[38;5;28;01mfinally\u001B[39;00m:\n\u001B[1;32m      8\u001B[0m     \u001B[38;5;28mprint\u001B[39m(\u001B[38;5;124m\"\u001B[39m\u001B[38;5;124m파일 작업 종료.\u001B[39m\u001B[38;5;124m\"\u001B[39m)\n\u001B[0;32m----> 9\u001B[0m     \u001B[43mfile\u001B[49m\u001B[38;5;241m.\u001B[39mclose()\n",
      "\u001B[0;31mNameError\u001B[0m: name 'file' is not defined"
     ]
    }
   ],
   "execution_count": 13
  },
  {
   "cell_type": "markdown",
   "metadata": {
    "id": "l0YVL4ArzIvV"
   },
   "source": [
    "## 3-3 함수형 프로그래밍: lambda 함수\n",
    "\n",
    "> 인용구 추가\n",
    "\n"
   ]
  },
  {
   "cell_type": "code",
   "metadata": {
    "id": "Syg5knhezIvV",
    "colab": {
     "base_uri": "https://localhost:8080/"
    },
    "outputId": "e96bb3d9-5908-4bf3-dabb-d60d6152b55d",
    "ExecuteTime": {
     "end_time": "2025-09-09T05:52:26.524801Z",
     "start_time": "2025-09-09T05:52:26.514036Z"
    }
   },
   "source": [
    "employees = {\n",
    "    '이지혜': 3000000,\n",
    "    '구민준': 5000000,\n",
    "    '방서연': 4100000\n",
    "}\n",
    "\n",
    "# 함수 정의: salary * 1.1\n",
    "adjust_salary = lambda salary: salary * 1.1\n",
    "# 급여 인상\n",
    "updated_salaries = { name: adjust_salary(salary) for name, salary in employees.items()}\n",
    "print(updated_salaries)"
   ],
   "outputs": [
    {
     "name": "stdout",
     "output_type": "stream",
     "text": [
      "{'이지혜': 3300000.0000000005, '구민준': 5500000.0, '방서연': 4510000.0}\n"
     ]
    }
   ],
   "execution_count": 32
  },
  {
   "cell_type": "code",
   "execution_count": null,
   "metadata": {
    "id": "KM0psbppzIvV",
    "colab": {
     "base_uri": "https://localhost:8080/"
    },
    "outputId": "796c2b65-6e4c-420f-981f-58a6168555d8"
   },
   "outputs": [
    {
     "output_type": "stream",
     "name": "stdout",
     "text": [
      "섭씨 온도 데이터: [25.6, 27.8, 30.5, 22.3, 28.9, 31.2, 24.7]\n",
      "화씨 온도로 변환: [78.08, 82.04, 86.9, 72.14, 84.02, 88.16, 76.46]\n"
     ]
    }
   ],
   "source": [
    "temperature_celsius = [25.6, 27.8, 30.5, 22.3, 28.9, 31.2, 24.7]\n",
    "\n",
    "# 함수 정의: 섭씨 -> 화씨: 표현식 이용\n",
    "# adjust_temperature = lambda temperature: (temperature * 9/5) + 32\n",
    "# temperature_fahrenheit = [ adjust_temperature(temperature) for temperature in temperature_celsius ]\n",
    "\n",
    "# 온도 변환: map() 함수 이용\n",
    "celsius_to_fahrenheit = lambda c: (c * 9/5) + 32\n",
    "temperature_fahrenheit = list(map(celsius_to_fahrenheit, temperature_celsius))\n",
    "\n",
    "print('섭씨 온도 데이터:', temperature_celsius)\n",
    "print('화씨 온도로 변환:', temperature_fahrenheit)"
   ]
  },
  {
   "cell_type": "code",
   "metadata": {
    "id": "rG3nqqfDzIvW",
    "colab": {
     "base_uri": "https://localhost:8080/"
    },
    "outputId": "85bb3e62-16de-49ef-ec05-fd720a4cb5e4",
    "ExecuteTime": {
     "end_time": "2025-09-09T01:28:02.219897Z",
     "start_time": "2025-09-09T01:28:02.212687Z"
    }
   },
   "source": [
    "words = ['python', 'data', 'analysis']\n",
    "\n",
    "# 함수 정의 및 대문자화\n",
    "\n",
    "# c = 'a'\n",
    "# ascii_c = ord(c)\n",
    "# print(ascii_c - 32)\n",
    "# print(chr(ascii_c - 32))\n",
    "#\n",
    "# for word in words:\n",
    "#     for i in word:\n",
    "#         print(i)\n",
    "#     print()\n",
    "\n",
    "LowerToUpper = lambda x : x.upper()\n",
    "uppercase_words = list(map(LowerToUpper, words))\n",
    "\n",
    "\n",
    "print(uppercase_words)"
   ],
   "outputs": [
    {
     "name": "stdout",
     "output_type": "stream",
     "text": [
      "['PYTHON', 'DATA', 'ANALYSIS']\n"
     ]
    }
   ],
   "execution_count": 15
  },
  {
   "metadata": {
    "id": "9tFlZojhzIvW",
    "ExecuteTime": {
     "end_time": "2025-09-09T06:12:47.142063Z",
     "start_time": "2025-09-09T06:12:47.135049Z"
    }
   },
   "cell_type": "code",
   "source": [
    "employees = [\n",
    "    {'name': '김지원', 'salary': 3700000},\n",
    "    {'name': '박민준', 'salary': 7000000},\n",
    "    {'name': '이서연', 'salary': 4400000},\n",
    "    {'name': '정현우', 'salary': 3500000}\n",
    "]\n",
    "\n",
    "for emp in employees:\n",
    "     print(f\"{emp['name']}: {int(emp['salary']):,}원\")\n",
    "\n",
    "# salary * 1.1\n",
    "\n",
    "updated_salary = lambda x : x * 1.1\n",
    "# updated_employees = []\n",
    "#\n",
    "# for row in employees:\n",
    "#     temp = dict()\n",
    "#     for key, val in row.items():\n",
    "#         if key == 'salary':\n",
    "#             temp[key] = updated_salary(row[key])\n",
    "#         else:\n",
    "#             temp[key] = row[key]\n",
    "#     updated_employees.append(temp)\n",
    "# print(updated_employees)\n",
    "\n",
    "updated_employees = [ {'name' : name, 'salary' : modi_salary } for rows in employees for key, val in rows.items()\n",
    "                            if key == 'salary' modi_salary = updated_salary(rows[key])\n",
    "                            else name=rows[key] ]\n",
    "\n",
    "print('\\n급여 인상(0.1%) 후:')\n",
    "\n",
    "for emp in updated_employees:\n",
    "     print(f\"{emp['name']}: {int(emp['salary']):,}원\")"
   ],
   "outputs": [
    {
     "ename": "SyntaxError",
     "evalue": "invalid syntax (1379246832.py, line 29)",
     "output_type": "error",
     "traceback": [
      "\u001B[0;36m  Cell \u001B[0;32mIn[53], line 29\u001B[0;36m\u001B[0m\n\u001B[0;31m    if key == 'salary' modi_salary = updated_salary(rows[key])\u001B[0m\n\u001B[0m                       ^\u001B[0m\n\u001B[0;31mSyntaxError\u001B[0m\u001B[0;31m:\u001B[0m invalid syntax\n"
     ]
    }
   ],
   "execution_count": 53
  },
  {
   "cell_type": "code",
   "metadata": {
    "id": "WHQxVdiuzIvW",
    "ExecuteTime": {
     "end_time": "2025-09-09T05:46:45.834456Z",
     "start_time": "2025-09-09T05:46:45.828959Z"
    }
   },
   "source": [
    "numbers = [10, 15, 20, 25, 30]\n",
    "\n",
    "# 짝수 필터링\n",
    "chk_even = lambda x : x % 2 == 0\n",
    "even_numbers = list(filter(chk_even, numbers))\n",
    "print(even_numbers)"
   ],
   "outputs": [
    {
     "name": "stdout",
     "output_type": "stream",
     "text": [
      "[10, 20, 30]\n"
     ]
    }
   ],
   "execution_count": 27
  },
  {
   "cell_type": "code",
   "execution_count": null,
   "metadata": {
    "id": "1E-RQnBfzIvW",
    "colab": {
     "base_uri": "https://localhost:8080/"
    },
    "outputId": "27d57add-952c-4dd3-b369-1fc0944baccb"
   },
   "outputs": [
    {
     "output_type": "stream",
     "name": "stdout",
     "text": [
      "이름: 김지원, 점수: 85\n",
      "이름: 박서연, 점수: 90\n",
      "이름: 최예은, 점수: 78\n"
     ]
    }
   ],
   "source": [
    "osda_students = [\n",
    "    {'name': '김지원', 'score': 85},\n",
    "    {'name': '이민준', 'score': 65},\n",
    "    {'name': '박서연', 'score': 90},\n",
    "    {'name': '정현우', 'score': 55},\n",
    "    {'name': '최예은', 'score': 78}\n",
    "]\n",
    "\n",
    "# 70점 이상 학생 목록 생성\n",
    "passed_students = list(filter(lambda student: student[\"score\"] > 70, osda_students))\n",
    "\n",
    "for student in passed_students:\n",
    "    print(f'이름: {student[\"name\"]}, 점수: {student[\"score\"]}')"
   ]
  },
  {
   "cell_type": "code",
   "execution_count": null,
   "metadata": {
    "id": "1sVaIuwFzIvW",
    "colab": {
     "base_uri": "https://localhost:8080/"
    },
    "outputId": "fc9f32e3-8cf9-40bb-b687-42d967d73926"
   },
   "outputs": [
    {
     "output_type": "stream",
     "name": "stdout",
     "text": [
      "9\n"
     ]
    }
   ],
   "source": [
    "from functools import reduce\n",
    "\n",
    "numbers = [3, 7, 2, 9, 5]\n",
    "\n",
    "# 최대 값 생성\n",
    "max_value = reduce(lambda x, y: x if x > y else y , numbers)\n",
    "\n",
    "print(max_value)"
   ]
  }
 ],
 "metadata": {
  "colab": {
   "provenance": [],
   "include_colab_link": true
  },
  "kernelspec": {
   "display_name": "Python 3 (ipykernel)",
   "name": "python3",
   "language": "python"
  },
  "language_info": {
   "name": "python"
  }
 },
 "nbformat": 4,
 "nbformat_minor": 0
}
