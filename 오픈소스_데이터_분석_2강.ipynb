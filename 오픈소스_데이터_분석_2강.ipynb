{
 "cells": [
  {
   "cell_type": "markdown",
   "metadata": {
    "id": "view-in-github",
    "colab_type": "text"
   },
   "source": [
    "<a href=\"https://colab.research.google.com/github/jaehwachung/Data-Analysis-with-Open-Source/blob/main/%EC%98%A4%ED%94%88%EC%86%8C%EC%8A%A4_%EB%8D%B0%EC%9D%B4%ED%84%B0_%EB%B6%84%EC%84%9D_2%EA%B0%95.ipynb\" target=\"_parent\"><img src=\"https://colab.research.google.com/assets/colab-badge.svg\" alt=\"Open In Colab\"/></a>"
   ]
  },
  {
   "cell_type": "markdown",
   "metadata": {
    "id": "DkPKaAsoRq5Q"
   },
   "source": [
    "\n",
    "\n",
    "# 오픈소스 기반 데이터 분석 2강 - 데이터 분석을 위한 파이썬 1\n"
   ]
  },
  {
   "cell_type": "markdown",
   "metadata": {
    "id": "-I7BVVlnRrB0"
   },
   "source": [
    "## 2-1 리스트 슬라이싱"
   ]
  },
  {
   "cell_type": "code",
   "metadata": {
    "id": "2Y2HEiaiRwAI",
    "ExecuteTime": {
     "end_time": "2025-09-09T06:52:14.004016Z",
     "start_time": "2025-09-09T06:52:13.999033Z"
    }
   },
   "source": [
    "from urllib3 import request\n",
    "\n",
    "numbers = [10, 20, 30, 40, 50, 60, 70]\n",
    "# 첫 4개의 원소 출력\n",
    "first_four = numbers[:4]\n",
    "print(first_four)\n",
    "# 뒤 3개의 원소를 출력\n",
    "last_three = numbers[-3:]\n",
    "print(last_three)"
   ],
   "outputs": [
    {
     "name": "stdout",
     "output_type": "stream",
     "text": [
      "[10, 20, 30, 40]\n",
      "[50, 60, 70]\n"
     ]
    }
   ],
   "execution_count": 2
  },
  {
   "cell_type": "code",
   "metadata": {
    "id": "IO8bsKekR0W_",
    "ExecuteTime": {
     "end_time": "2025-09-09T06:53:42.465980Z",
     "start_time": "2025-09-09T06:53:42.458313Z"
    }
   },
   "source": [
    "numbers = [10, 20, 30, 40, 50, 60, 70]\n",
    "\n",
    "# 홀수번째 항목 출력\n",
    "every_other_list = numbers[::2]\n",
    "print(every_other_list)\n",
    "\n",
    "# 역순 출력\n",
    "reverse_list = numbers[::-1]\n",
    "print(reverse_list)"
   ],
   "outputs": [
    {
     "name": "stdout",
     "output_type": "stream",
     "text": [
      "[10, 30, 50, 70]\n",
      "[70, 60, 50, 40, 30, 20, 10]\n"
     ]
    }
   ],
   "execution_count": 4
  },
  {
   "cell_type": "code",
   "metadata": {
    "id": "60qOf7uxVdAg",
    "ExecuteTime": {
     "end_time": "2025-09-09T23:47:57.753673Z",
     "start_time": "2025-09-09T23:47:57.747589Z"
    }
   },
   "source": [
    "matrix = [\n",
    "    [1, 2, 3, 4],\n",
    "    [5, 6, 7, 8],\n",
    "    [9, 10, 11, 12],\n",
    "    [13, 14, 15, 16]\n",
    "]\n",
    "\n",
    "# 첫 두 행 출력\n",
    "first_two_rows = matrix[:2]\n",
    "\n",
    "print(first_two_rows)\n",
    "\n",
    "# 첫 두 열 출력: matrix를 직접 슬라이싱해서는 안 되네? 우선은 for 문을 이용해서\n",
    "first_two_columns = list()\n",
    "for row in matrix:\n",
    "    first_two_columns.append(row[:2])\n",
    "\n",
    "print(first_two_columns)"
   ],
   "outputs": [
    {
     "name": "stdout",
     "output_type": "stream",
     "text": [
      "[[1, 2, 3, 4], [5, 6, 7, 8]]\n",
      "[[1, 2], [5, 6], [9, 10], [13, 14]]\n"
     ]
    }
   ],
   "execution_count": 1
  },
  {
   "cell_type": "markdown",
   "metadata": {
    "id": "eOMufu5SXiAU"
   },
   "source": [
    "## 2-2 리스트 컴프리헨션"
   ]
  },
  {
   "cell_type": "code",
   "metadata": {
    "id": "JpmgdsW9V0CY",
    "ExecuteTime": {
     "end_time": "2025-09-12T04:22:57.985626Z",
     "start_time": "2025-09-12T04:22:57.979881Z"
    }
   },
   "source": [
    "numbers = [ ]\n",
    "\n",
    "# 1 ~ 5 포함 리스트 생성\n",
    "for i in range(5):\n",
    "    numbers.append(i)\n",
    "\n",
    "print(numbers)\n",
    "\n",
    "number2 = [ x for x in range(5)]\n",
    "print(number2)"
   ],
   "outputs": [
    {
     "name": "stdout",
     "output_type": "stream",
     "text": [
      "[0, 1, 2, 3, 4]\n",
      "[0, 1, 2, 3, 4]\n"
     ]
    }
   ],
   "execution_count": 1
  },
  {
   "cell_type": "code",
   "metadata": {
    "id": "cRC8x3_iW0im",
    "ExecuteTime": {
     "end_time": "2025-09-09T23:51:27.516996Z",
     "start_time": "2025-09-09T23:51:27.510141Z"
    }
   },
   "source": [
    "numbers = [1, 2, 3, 4, 5]\n",
    "squares = [ ]\n",
    "\n",
    "# numbers의 모든 항목의 값을 제곱한 리스트\n",
    "for num in numbers:\n",
    "  squares.append(num ** 2)\n",
    "\n",
    "print(squares)\n",
    "\n",
    "squares2 = [x ** 2 for x in numbers]\n",
    "print(squares2)"
   ],
   "outputs": [
    {
     "name": "stdout",
     "output_type": "stream",
     "text": [
      "[1, 4, 9, 16, 25]\n",
      "[1, 4, 9, 16, 25]\n"
     ]
    }
   ],
   "execution_count": 6
  },
  {
   "cell_type": "code",
   "metadata": {
    "id": "MAvimjk6Fqlc",
    "ExecuteTime": {
     "end_time": "2025-09-09T23:52:51.434307Z",
     "start_time": "2025-09-09T23:52:51.424743Z"
    }
   },
   "source": [
    "numbers = [1, 2, 3, 4, 5, 6, 7, 8, 9, 10]\n",
    "even_numbers = [ ]\n",
    "\n",
    "# 짝수만 추출한 리스트\n",
    "for num in numbers:\n",
    "    if num % 2 == 0:\n",
    "        even_numbers.append(num)\n",
    "\n",
    "print(even_numbers)\n",
    "\n",
    "even_numbers2 = [ x for x in numbers if x % 2 == 0 ]\n",
    "print(even_numbers2)"
   ],
   "outputs": [
    {
     "name": "stdout",
     "output_type": "stream",
     "text": [
      "[2, 4, 6, 8, 10]\n",
      "[2, 4, 6, 8, 10]\n"
     ]
    }
   ],
   "execution_count": 9
  },
  {
   "cell_type": "code",
   "metadata": {
    "id": "HGO8XTxBFqld",
    "ExecuteTime": {
     "end_time": "2025-09-09T23:54:07.027528Z",
     "start_time": "2025-09-09T23:54:07.012618Z"
    }
   },
   "source": [
    "list1 = ['사과', '복숭아', '바나나']\n",
    "list2 = ['주스', '잼', '통조림']\n",
    "pairs = [ ]\n",
    "\n",
    "# 두 리스트에 포함되 모든 원소를 조합한 투플의 리스트 생성\n",
    "for fruit in list1:\n",
    "    for product in list2:\n",
    "        pairs.append((fruit, product))\n",
    "\n",
    "print(pairs)\n",
    "\n",
    "pairs2 = [ (x, y) for x in list1 for y in list2 ]\n",
    "print(pairs2)\n"
   ],
   "outputs": [
    {
     "name": "stdout",
     "output_type": "stream",
     "text": [
      "[('사과', '주스'), ('사과', '잼'), ('사과', '통조림'), ('복숭아', '주스'), ('복숭아', '잼'), ('복숭아', '통조림'), ('바나나', '주스'), ('바나나', '잼'), ('바나나', '통조림')]\n",
      "[('사과', '주스'), ('사과', '잼'), ('사과', '통조림'), ('복숭아', '주스'), ('복숭아', '잼'), ('복숭아', '통조림'), ('바나나', '주스'), ('바나나', '잼'), ('바나나', '통조림')]\n"
     ]
    }
   ],
   "execution_count": 11
  },
  {
   "cell_type": "code",
   "metadata": {
    "id": "K-BPhFTUFqle",
    "ExecuteTime": {
     "end_time": "2025-09-09T23:55:33.880895Z",
     "start_time": "2025-09-09T23:55:33.871701Z"
    }
   },
   "source": [
    "squares = { }\n",
    "\n",
    "# 딕셔너리 생성\n",
    "for i in range(5):\n",
    "    squares[i] = i ** 2\n",
    "\n",
    "print(squares)\n",
    "\n",
    "squares2 = { key : key ** 2 for key in range(5) }\n",
    "print(squares2)"
   ],
   "outputs": [
    {
     "name": "stdout",
     "output_type": "stream",
     "text": [
      "{0: 0, 1: 1, 2: 4, 3: 9, 4: 16}\n",
      "{0: 0, 1: 1, 2: 4, 3: 9, 4: 16}\n"
     ]
    }
   ],
   "execution_count": 13
  },
  {
   "cell_type": "code",
   "metadata": {
    "id": "UoTcC8-GFqlf",
    "ExecuteTime": {
     "end_time": "2025-09-10T00:00:11.895715Z",
     "start_time": "2025-09-10T00:00:11.886142Z"
    }
   },
   "source": [
    "city_population = {\n",
    "    '서울': 957, '부산': 339, '인천': 294, '대구': 242, '광주': 145, '대전': 147,\n",
    "    '울산': 114, '세종': 36, '수원': 115, '창원': 103, '고양': 105, '용인': 108, '성남': 94\n",
    "}\n",
    "\n",
    "# 인구 200만명 이상의 도시 리스트\n",
    "large_cities = { city : pop for city, pop in city_population.items() if pop >= 200 }\n",
    "print(large_cities)\n",
    "\n",
    "# 인구 300만 이상 및 이름에 '산'이 포함된 도시 리스트\n",
    "large_short_name_cities = { city : pop for city, pop in city_population.items() if pop >= 300 and '산' in city }\n",
    "print(large_short_name_cities)"
   ],
   "outputs": [
    {
     "name": "stdout",
     "output_type": "stream",
     "text": [
      "{'서울': 957, '부산': 339, '인천': 294, '대구': 242}\n",
      "{'부산': 339}\n"
     ]
    }
   ],
   "execution_count": 18
  },
  {
   "cell_type": "markdown",
   "metadata": {
    "id": "njDOfr1LFqlf"
   },
   "source": [
    "## 2-3 문자열 형식화"
   ]
  },
  {
   "cell_type": "code",
   "metadata": {
    "id": "fzO0h6KfFqlg",
    "ExecuteTime": {
     "end_time": "2025-09-10T00:29:41.036218Z",
     "start_time": "2025-09-10T00:29:41.029800Z"
    }
   },
   "source": [
    "name = '홍길동'\n",
    "age = 30\n",
    "salary = 3500000\n",
    "tax_rate = 0.1\n",
    "\n",
    "# C 스타일 문자열 포매팅\n",
    "# 이름, 나이, 월급 출력\n",
    "basic_format = \"이름: %s, 나이: %d, 월급: %.2f\" % (name, age, salary)\n",
    "# 직원이름, 나이, 세후 월급 출력\n",
    "index_format = \"이름: %s, 나이: %d, 세후 월급: %.2f\" % (name, age, salary * 0.9)\n",
    "\n",
    "# 직원이름, 나이, 월급, 세금, 실수령액 추력\n",
    "keyword_format = \"이름: %s, 나이: %d, 월급: %.2f, 세금: %.2f, 실수령액: %.2f\" % (\n",
    "    name,\n",
    "    age,\n",
    "    salary,\n",
    "    salary * 0.1,\n",
    "    salary * 0.9)\n",
    "\n",
    "print(basic_format)\n",
    "print(index_format)\n",
    "print(keyword_format)"
   ],
   "outputs": [
    {
     "name": "stdout",
     "output_type": "stream",
     "text": [
      "이름: 홍길동, 나이: 30, 월급: 3500000.00\n",
      "이름: 홍길동, 나이: 30, 세후 월급: 3150000.00\n",
      "이름: 홍길동, 나이: 30, 월급: 3500000.00, 세금: 350000.00, 실수령액: 3150000.00\n"
     ]
    }
   ],
   "execution_count": 27
  },
  {
   "cell_type": "code",
   "source": [
    "name = '홍길동'\n",
    "age = 30\n",
    "salary = 3500000\n",
    "tax_rate = 0.1\n",
    "\n",
    "# str.format 문자열 포매팅\n",
    "# 이름, 나이, 월급 출력\n",
    "basic_format = \"이름: {}, 나이: {}, 월급: {}\".format(name, age, salary)\n",
    "# 직원이름, 나이, 세후 월급 출력\n",
    "index_format = \"이름: {0}, 나이: {1}, 세후 월급: {2}\".format(name, age, salary * 0.9)\n",
    "# 직원이름, 나이, 월급, 세금, 실수령액 추력\n",
    "keyword_format = \"이름: {name}, 나이: {age}, 월급: {salary:,.2f}, 세금: {tax:,.2f}, 실수령액: {taxed_sal:,.2f}\".format(\n",
    "    name=name,\n",
    "    age=age,\n",
    "    salary=salary,\n",
    "    tax=salary * 0.1,\n",
    "    taxed_sal=salary * 0.9)\n",
    "\n",
    "print(basic_format)\n",
    "print(index_format)\n",
    "print(keyword_format)"
   ],
   "metadata": {
    "id": "cIvmmcQux_ph",
    "ExecuteTime": {
     "end_time": "2025-09-10T00:10:42.949931Z",
     "start_time": "2025-09-10T00:10:42.937045Z"
    }
   },
   "outputs": [
    {
     "name": "stdout",
     "output_type": "stream",
     "text": [
      "이름: 홍길동, 나이: 30, 월급: 3500000\n",
      "이름: 홍길동, 나이: 30, 세후 월급: 3150000.0\n",
      "이름: 홍길동, 나이: 30, 월급: 3,500,000.00, 세금: 350,000.00, 실수령액: 3,150,000.00\n"
     ]
    }
   ],
   "execution_count": 24
  },
  {
   "cell_type": "code",
   "source": [
    "name = '홍길동'\n",
    "age = 30\n",
    "salary = 3500000\n",
    "tax_rate = 0.1\n",
    "\n",
    "# f-문자열 포매팅\n",
    "# 이름, 나이, 월급 출력\n",
    "basic_format = f\"이름: {name}, 나이: {age}, 월급: {salary:,.2f}\"\n",
    "# 직원이름, 나이, 세후 월급 출력\n",
    "index_format= f\"이름: {name}, 나이: {age}, 세후 월급: {salary * 0.9:,.2f}\"\n",
    "# 직원이름, 나이, 월급, 세금, 실수령액 추력\n",
    "keyword_format = f\"이름: {name}, 나이: {age}, 월급: {salary:,.2f}, 세금: {salary * 0.1:,.2f}, 실수령액: {salary * 0.9:,.2f}\"\n",
    "\n",
    "print(basic_format)\n",
    "print(index_format)\n",
    "print(keyword_format)"
   ],
   "metadata": {
    "id": "EIO3z-XQx_ce",
    "ExecuteTime": {
     "end_time": "2025-09-10T00:36:51.096471Z",
     "start_time": "2025-09-10T00:36:51.090121Z"
    }
   },
   "outputs": [
    {
     "name": "stdout",
     "output_type": "stream",
     "text": [
      "이름: 홍길동, 나이: 30, 월급: 3,500,000.00\n",
      "이름: 홍길동, 나이: 30, 세후 월급: 3,150,000.00\n",
      "이름: 홍길동, 나이: 30, 월급: 3,500,000.00, 세금: 350,000.00, 실수령액: 3,150,000.00\n"
     ]
    }
   ],
   "execution_count": 45
  },
  {
   "cell_type": "markdown",
   "metadata": {
    "id": "6lnhCleJFqlg"
   },
   "source": [
    "## 2-4 컨텍스트 관리"
   ]
  },
  {
   "cell_type": "code",
   "metadata": {
    "id": "eFpmQp3QFqlh",
    "ExecuteTime": {
     "end_time": "2025-09-10T00:37:04.991243Z",
     "start_time": "2025-09-10T00:37:04.986342Z"
    }
   },
   "source": [
    "# 파일 오픈 & 클로즈\n",
    "file = open('output.txt', 'w')\n",
    "file.write('Hello, world!\\n')\n",
    "file.close()"
   ],
   "outputs": [],
   "execution_count": 47
  },
  {
   "cell_type": "code",
   "metadata": {
    "id": "D0aOLti0Fqlh",
    "ExecuteTime": {
     "end_time": "2025-09-10T00:44:55.957947Z",
     "start_time": "2025-09-10T00:44:55.953348Z"
    }
   },
   "source": [
    "# 복수개의 파일(읽기 & 쓰기) 관리\n",
    "with open('output.txt', 'r+') as f:\n",
    "    f.write(\"Hello, world! It's a code of WHIT keyword.\\n\")\n",
    "    line = f.readline()\n",
    "    print(line)"
   ],
   "outputs": [
    {
     "name": "stdout",
     "output_type": "stream",
     "text": [
      "Hello, world! It's a code of WHIT\n",
      "\n"
     ]
    }
   ],
   "execution_count": 71
  },
  {
   "cell_type": "code",
   "metadata": {
    "id": "6SE0rrD5Fqli",
    "ExecuteTime": {
     "end_time": "2025-09-10T00:52:48.274243Z",
     "start_time": "2025-09-10T00:52:48.051336Z"
    }
   },
   "source": [
    "import urllib.request\n",
    "\n",
    "# URL 연결 관리\n",
    "url = \"https://raw.githubusercontent.com/jaehwachung/Data-Analysis-with-Open-Source/refs/heads/main/Chapter%203/students.csv\"\n",
    "with urllib.request.urlopen(url) as response:\n",
    "    data = response.read( ).decode('utf-8')\n",
    "\n",
    "print(data)"
   ],
   "outputs": [
    {
     "name": "stdout",
     "output_type": "stream",
     "text": [
      "학번,이름,데이터베이스,파이썬,클라우드\n",
      "101,김철수,85,78,92\n",
      "102,이영희,76,82,78\n",
      "103,박지민,92,95,85\n",
      "104,최준서,63,70,75\n",
      "105,정미나,88,84,91\n",
      "\n"
     ]
    }
   ],
   "execution_count": 81
  }
 ],
 "metadata": {
  "colab": {
   "provenance": [],
   "include_colab_link": true
  },
  "kernelspec": {
   "display_name": "Python 3 (ipykernel)",
   "name": "python3",
   "language": "python"
  },
  "language_info": {
   "name": "python"
  }
 },
 "nbformat": 4,
 "nbformat_minor": 0
}
