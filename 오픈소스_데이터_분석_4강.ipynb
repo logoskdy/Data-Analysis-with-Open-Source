{
 "nbformat": 4,
 "nbformat_minor": 0,
 "metadata": {
  "colab": {
   "provenance": [],
   "include_colab_link": true
  },
  "kernelspec": {
   "name": "python3",
   "display_name": "Python 3 (ipykernel)",
   "language": "python"
  },
  "language_info": {
   "name": "python"
  }
 },
 "cells": [
  {
   "metadata": {},
   "cell_type": "markdown",
   "source": "<a href=\"https://colab.research.google.com/github/jaehwachung/Data-Analysis-with-Open-Source/blob/main/%EC%98%A4%ED%94%88%EC%86%8C%EC%8A%A4_%EB%8D%B0%EC%9D%B4%ED%84%B0_%EB%B6%84%EC%84%9D_4%EA%B0%95.ipynb\" target=\"_parent\"><img src=\"https://colab.research.google.com/assets/colab-badge.svg\" alt=\"Open In Colab\"/></a>"
  },
  {
   "metadata": {},
   "cell_type": "markdown",
   "source": [
    "\n",
    "\n",
    "# 오픈소스 기반 데이터 분석 4강 - 데이터 수집\n"
   ]
  },
  {
   "metadata": {},
   "cell_type": "markdown",
   "source": "## 4-1 CSV 파일 읽기"
  },
  {
   "metadata": {},
   "cell_type": "code",
   "outputs": [],
   "execution_count": null,
   "source": [
    "import pandas as pd\n",
    "from urllib3 import request\n",
    "\n",
    "## data.csv 파일 읽기\n",
    "df = pd.read_csv(\"/Users/dexion/PycharmProjects/Data-Analysis-with-Open-Source/Chapter 3/data.csv\",\n",
    "            encoding=\"utf-8\",\n",
    "            sep=\",\",\n",
    "            header=0,\n",
    "            index_col=None,\n",
    "            skiprows=None,\n",
    "            nrows=None\n",
    "            )\n",
    "\n",
    "print(df)"
   ]
  },
  {
   "metadata": {},
   "cell_type": "markdown",
   "source": [
    "## 4-2 JSON 파일 읽기\n",
    "\n"
   ]
  },
  {
   "metadata": {},
   "cell_type": "code",
   "outputs": [],
   "execution_count": null,
   "source": [
    "import json\n",
    "import pandas as pd\n",
    "\n",
    "## data.json 파일 출력\n",
    "with open(\"/Users/dexion/PycharmProjects/Data-Analysis-with-Open-Source/Chapter 3/data.json\", mode=\"r\", encoding=\"utf-8\") as json_file:\n",
    "    data = json.load(json_file)\n",
    "\n",
    "print(data)\n",
    "\n",
    "## data.json 파일 DataFrame 읽기\n",
    "df = pd.read_json(\"/Users/dexion/PycharmProjects/Data-Analysis-with-Open-Source/Chapter 3/data.json\", orient=\"records\", encoding=\"utf-8\")\n",
    "print(df)"
   ]
  },
  {
   "metadata": {},
   "cell_type": "markdown",
   "source": "## 4-3 텍스트 파일 읽기 및 데이터 추출"
  },
  {
   "metadata": {},
   "cell_type": "code",
   "outputs": [],
   "execution_count": null,
   "source": [
    "import re\n",
    "\n",
    "## 파일(callcenter20250301.log) 오픈 및 읽기\n",
    "with open('/Users/dexion/PycharmProjects/Data-Analysis-with-Open-Source/Chapter 3/callcenter20250301.log', mode='r', encoding='utf-8') as f:\n",
    "    content = f.read()\n",
    "## 주민등록번호 패턴 생성\n",
    "pattern = re.compile(r'(\\d{6})-(\\d{7})')\n",
    "\n",
    "## 주민등록번호 마스킹\n",
    "masked_content = pattern.sub(r'\\1-*******', content)\n",
    "\n",
    "## 마스킹된 파일(callcenter20250301_masked.log) 오픈 및 쓰기\n",
    "with open(\"/Users/dexion/PycharmProjects/Data-Analysis-with-Open-Source/Chapter 3/callcenter20250301_maked.log\", mode='w', encoding=\"utf-8\") as f:\n",
    "    f.write(masked_content)\n",
    "\n",
    "print(\"주민등록번호 마스킹 완료. 'callcenter20250301_masked.log.txt' 파일로 저장되었습니다.\")"
   ]
  },
  {
   "metadata": {},
   "cell_type": "markdown",
   "source": "## 4-4 Open-Meteo의 무료 날씨 API를 통한 특정 지역 온도 조회"
  },
  {
   "metadata": {},
   "cell_type": "code",
   "outputs": [],
   "execution_count": null,
   "source": [
    "import requests\n",
    "import json\n",
    "\n",
    "url = \"https://api.open-meteo.com/v1/forecast?=&=&current=temperature_2m\"\n",
    "params = {\n",
    "    # 방송대 본부 위치임.\n",
    "    \"latitude\": \"37.58638333\",\n",
    "    \"longitude\": \"127.0203333\",\n",
    "    \"current\": \"temperature_2m\"\n",
    "}\n",
    "\n",
    "try:\n",
    "    ## URL 및 파라미터 전송\n",
    "    response = requests.get(url, params=params)\n",
    "    response.raise_for_status()\n",
    "\n",
    "    ## JSON 데이터 읽기\n",
    "    data = response.json()\n",
    "\n",
    "    print(\"API 응답:\", data)\n",
    "    print(\"서울시 종로구의 현재 온도는 : {0}{1} 입니다.\".format(data['current']['temperature_2m'], data['current_units']['temperature_2m']))\n",
    "\n",
    "except requests.exceptions.RequestException as e:\n",
    "    print(f\"API 호출 실패: {e}\")\n",
    "except json.JSONDecodeError as e:\n",
    "    print(f\"JSON 파싱 실패: {e}\")"
   ]
  },
  {
   "metadata": {},
   "cell_type": "markdown",
   "source": "## 4-5 Selenium과 lxml을 이용한 웹 스크래핑"
  },
  {
   "metadata": {},
   "cell_type": "code",
   "outputs": [],
   "execution_count": null,
   "source": [
    "!curl -o google-chrome-stable_current_amd64.deb https://dl.google.com/linux/direct/google-chrome-stable_current_amd64.deb\n",
    "!apt install ./google-chrome-stable_current_amd64.deb -y\n",
    "!pip install selenium webdriver_manager"
   ]
  },
  {
   "metadata": {},
   "cell_type": "code",
   "outputs": [],
   "execution_count": null,
   "source": [
    "from selenium import webdriver\n",
    "from selenium.webdriver.chrome.service import Service as ChromeService\n",
    "from webdriver_manager.chrome import ChromeDriverManager\n",
    "from selenium.webdriver.common.by import By\n",
    "from lxml import html\n",
    "import time\n",
    "\n",
    "chrome_options = webdriver.ChromeOptions()\n",
    "chrome_options.add_argument('--headless')               # 브라우저 창 없이 실행\n",
    "chrome_options.add_argument('--no-sandbox')             # 보안모드 비활성화 (Colab 필수)\n",
    "chrome_options.add_argument('--disable-dev-shm-usage')  # 메모리 부족 방지 (Colab 필수)\n",
    "chrome_options.add_argument('--window-size=1920x1080')  # 창 크기 설정(가상)\n",
    "chrome_options.add_argument('--disable-gpu')            # GPU 가속 비활성화 (일부 환경 안정성)\n",
    "chrome_options.binary_location = \"/usr/bin/google-chrome-stable\"  # Colab용 크롬 경로 지정\n",
    "\n",
    "## 드라이버 실행\n",
    "driver = webdriver.Chrome(options=chrome_options)\n",
    "\n",
    "## 사이트 접속\n",
    "url = 'http://professor.knou.ac.kr/jaehwachung/index.do'\n",
    "driver.get(url)\n",
    "\n",
    "## 사이트 접속 대기\n",
    "time.sleep(2)\n",
    "\n",
    "## 페이지 제목 출력\n",
    "page_source = driver.page_source\n",
    "tree = html.fromstring(page_source)\n",
    "\n",
    "title_text = tree.xpath('//title//')\n",
    "print(title_text)\n",
    "\n",
    "## 드라이버 종료\n",
    "driver.quit()"
   ]
  },
  {
   "metadata": {},
   "cell_type": "markdown",
   "source": [
    "\n",
    "# 실습 시나리오"
   ]
  },
  {
   "metadata": {},
   "cell_type": "markdown",
   "source": [
    "## 공공데이터 포털 가입 및 데이터 신청\n",
    "\n",
    "- [https://www.data.go.kr](https://www.data.go.kr)\n",
    "- 한국환경공단 에어코리아 대기오염정보 데이터 신청"
   ]
  },
  {
   "metadata": {},
   "cell_type": "code",
   "outputs": [],
   "execution_count": null,
   "source": [
    "import requests\n",
    "\n",
    "## 데이터 수집 url 및 api key 설정\n",
    "url = \"http://apis.data.go.kr/B552584/ArpltnInforInqireSvc/getMinuDustFrcstDspth\"\n",
    "api_key = \"\"\n",
    "\n",
    "params = {\n",
    "    'serviceKey': api_key,\n",
    "    'returnType': 'json',\n",
    "    'numOfRows': '100',\n",
    "    'pageNo': '1',\n",
    "    'sidoName': '서울',\n",
    "    'ver': '1.0'\n",
    "}\n",
    "\n",
    "## 데이터 수집\n",
    "request = requests.get(url, params=params)\n",
    "## 호출 성공/실패 출력\n",
    "print(request.json())\n"
   ]
  }
 ]
}
