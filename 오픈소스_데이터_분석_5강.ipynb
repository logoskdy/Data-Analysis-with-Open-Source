{
 "nbformat": 4,
 "nbformat_minor": 0,
 "metadata": {
  "colab": {
   "provenance": [],
   "include_colab_link": true
  },
  "kernelspec": {
   "name": "python3",
   "display_name": "Python 3 (ipykernel)",
   "language": "python"
  },
  "language_info": {
   "name": "python"
  }
 },
 "cells": [
  {
   "cell_type": "markdown",
   "metadata": {
    "id": "view-in-github",
    "colab_type": "text"
   },
   "source": [
    "<a href=\"https://colab.research.google.com/github/jaehwachung/Data-Analysis-with-Open-Source/blob/main/%EC%98%A4%ED%94%88%EC%86%8C%EC%8A%A4_%EB%8D%B0%EC%9D%B4%ED%84%B0_%EB%B6%84%EC%84%9D_5%EA%B0%95.ipynb\" target=\"_parent\"><img src=\"https://colab.research.google.com/assets/colab-badge.svg\" alt=\"Open In Colab\"/></a>"
   ]
  },
  {
   "cell_type": "markdown",
   "source": [
    "# 오픈소스 기반 데이터 분석 5강 - 데이터 저장"
   ],
   "metadata": {
    "id": "O4kC4JMknVnK"
   }
  },
  {
   "cell_type": "markdown",
   "source": [
    "## 5-1 CSV 형식 저장"
   ],
   "metadata": {
    "id": "8DfV0cZLqj_s"
   }
  },
  {
   "cell_type": "code",
   "source": [
    "import pandas as pd\n",
    "\n",
    "data = {\n",
    "    'student_id': [101, 102, 103, 104, 105],\n",
    "    'database_score': [85, 76, 92, 63, 88],\n",
    "    'cloudcomputing_score': [78, 82, 95, 70, 84],\n",
    "    'python_score': [92, 78, 85, 75, 91],\n",
    "    'watch_rate': [0.95, 0.87, 0.99, 0.80, 0.93]\n",
    "}\n",
    "## DataFrame 생성\n",
    "df = pd.DataFrame(data)\n",
    "\n",
    "## CSV 형식 저장\n",
    "df.to_csv('student_id.csv', index=False, encoding='utf-8')\n"
   ],
   "metadata": {
    "id": "DztLRI9gW2lk",
    "ExecuteTime": {
     "end_time": "2025-10-13T23:52:21.022574Z",
     "start_time": "2025-10-13T23:52:20.625554Z"
    }
   },
   "outputs": [],
   "execution_count": 1
  },
  {
   "cell_type": "markdown",
   "source": [
    "## 5-2 JSON 형식 저장"
   ],
   "metadata": {
    "id": "CSABzaf3q8XU"
   }
  },
  {
   "cell_type": "code",
   "source": [
    "### 라이브러리 임포트\n",
    "import json\n",
    "import pandas as pd\n",
    "\n",
    "data = {\n",
    "    \"이름\": \"홍길동\",\n",
    "    \"나이\": 25,\n",
    "    \"거주지\": \"서울\",\n",
    "    \"관심사\": [\"프로그래밍\", \"데이터 분석\", \"여행\"]\n",
    "}\n",
    "\n",
    "## json.dump를 이용한 저장\n",
    "with open('output_from_json.json', 'w', encoding='utf-8') as f:\n",
    "    json.dump(data, f, indent=4, ensure_ascii=False)\n",
    "## DataFrame을 이용한 저장\n",
    "df = pd.DataFrame([data])\n",
    "df.to_json('output_from_pandas_oriented_record.json', orient='records', indent=4, force_ascii=False)"
   ],
   "metadata": {
    "id": "7bAgRpizW7Vj",
    "ExecuteTime": {
     "end_time": "2025-10-14T00:25:12.517170Z",
     "start_time": "2025-10-14T00:25:12.506132Z"
    }
   },
   "outputs": [],
   "execution_count": 18
  },
  {
   "cell_type": "markdown",
   "source": [
    "## 5-3 Pandas Dataframe 데이터 추출"
   ],
   "metadata": {
    "id": "NMlsQDHtrA_x"
   }
  },
  {
   "cell_type": "code",
   "source": [
    "import pandas as pd\n",
    "\n",
    "data = {\n",
    "    \"이름\": [\"김철수\", \"이영희\", \"박민수\", \"최지훈\", \"정소희\"],\n",
    "    \"학년\": [1, 2, 3, 4, 2],\n",
    "    \"학점\": [4.2, 3.8, 4.5, 3.9, 3.5],\n",
    "    \"학과\": [\"컴퓨터학\", \"경영학\", \"농학\", \"교육학\", \"영어영문학\"],\n",
    "    \"동아리\": [\"프로그래밍\", \"독서토론\", \"로봇공학\", \"봉사활동\", \"음악감상\"]\n",
    "}\n",
    "df = pd.DataFrame(data)\n",
    "print(df)\n",
    "print()\n",
    "## DataFrame 인덱스 출력\n",
    "print(df.index)\n",
    "## DataFrame 컬럼 출력\n",
    "print(df.columns)\n",
    "## DataFrame 행 출력\n",
    "print(type(df.values))\n",
    "print(df.values)\n",
    "print(type(df.values.tolist()))\n",
    "print(df.values.tolist())\n",
    "## DataFrame 값 출력: 자료의 구조를 없애고 낱낱을 나열하는 방식\n",
    "print(df.values.flatten())"
   ],
   "metadata": {
    "id": "dk3xneVAW9_g",
    "ExecuteTime": {
     "end_time": "2025-10-14T01:53:56.306786Z",
     "start_time": "2025-10-14T01:53:56.116940Z"
    }
   },
   "outputs": [
    {
     "name": "stdout",
     "output_type": "stream",
     "text": [
      "    이름  학년   학점     학과    동아리\n",
      "0  김철수   1  4.2   컴퓨터학  프로그래밍\n",
      "1  이영희   2  3.8    경영학   독서토론\n",
      "2  박민수   3  4.5     농학   로봇공학\n",
      "3  최지훈   4  3.9    교육학   봉사활동\n",
      "4  정소희   2  3.5  영어영문학   음악감상\n",
      "\n",
      "RangeIndex(start=0, stop=5, step=1)\n",
      "Index(['이름', '학년', '학점', '학과', '동아리'], dtype='object')\n",
      "<class 'numpy.ndarray'>\n",
      "[['김철수' 1 4.2 '컴퓨터학' '프로그래밍']\n",
      " ['이영희' 2 3.8 '경영학' '독서토론']\n",
      " ['박민수' 3 4.5 '농학' '로봇공학']\n",
      " ['최지훈' 4 3.9 '교육학' '봉사활동']\n",
      " ['정소희' 2 3.5 '영어영문학' '음악감상']]\n",
      "<class 'list'>\n",
      "[['김철수', 1, 4.2, '컴퓨터학', '프로그래밍'], ['이영희', 2, 3.8, '경영학', '독서토론'], ['박민수', 3, 4.5, '농학', '로봇공학'], ['최지훈', 4, 3.9, '교육학', '봉사활동'], ['정소희', 2, 3.5, '영어영문학', '음악감상']]\n",
      "['김철수' 1 4.2 '컴퓨터학' '프로그래밍' '이영희' 2 3.8 '경영학' '독서토론' '박민수' 3 4.5 '농학'\n",
      " '로봇공학' '최지훈' 4 3.9 '교육학' '봉사활동' '정소희' 2 3.5 '영어영문학' '음악감상']\n"
     ]
    }
   ],
   "execution_count": 41
  },
  {
   "cell_type": "markdown",
   "source": [
    "## 5-4 DataFrame 생성 방법"
   ],
   "metadata": {
    "id": "ILJd1GLoseqm"
   }
  },
  {
   "metadata": {
    "id": "ISnPLEgNXAmi",
    "ExecuteTime": {
     "end_time": "2025-10-14T00:44:55.960041Z",
     "start_time": "2025-10-14T00:44:55.917848Z"
    }
   },
   "cell_type": "code",
   "source": [
    "import pandas as pd\n",
    "import json\n",
    "\n",
    "data = {\n",
    "    \"이름\": [\"김철수\", \"이영희\", \"박민수\", \"최지훈\", \"정소희\"],\n",
    "    \"학년\": [1, 2, 3, 4, 2],\n",
    "    \"학점\": [4.2, 3.8, 4.5, 3.9, 3.5],\n",
    "    \"학과\": [\"컴퓨터공학\", \"경영학\", \"전자공학\", \"의학\", \"심리학\"],\n",
    "    \"동아리\": [\"프로그래밍\", \"독서토론\", \"로봇공학\", \"봉사활동\", \"음악감상\"]\n",
    "}\n",
    "\n",
    "## 딕셔너리, csv, json으로 부터 DataFrame 생성\n",
    "df1 = pd.DataFrame(data)\n",
    "# df1 = pd.DataFrame.from_dict(data)  # 원 자료의 형식을 명시적으로 밝혀서 변환\n",
    "df2 = pd.read_csv('student_id.csv')\n",
    "df3 = pd.read_json('output_from_json.json')\n",
    "\n",
    "## 세가지 방법 결과 비교\n",
    "\n",
    "print(df1.shape)\n",
    "print(df2.shape)\n",
    "print(df3.shape)\n"
   ],
   "outputs": [
    {
     "name": "stdout",
     "output_type": "stream",
     "text": [
      "(5, 5)\n",
      "(5, 5)\n",
      "(3, 4)\n"
     ]
    }
   ],
   "execution_count": 34
  },
  {
   "cell_type": "markdown",
   "source": [
    "## 5-5 DataFrame 저장 방법"
   ],
   "metadata": {
    "id": "z1N6lAnwsdyU"
   }
  },
  {
   "cell_type": "code",
   "source": [
    "import pandas as pd\n",
    "\n",
    "data = {\n",
    "    \"이름\": [\"김철수\", \"이영희\", \"박민수\", \"최지훈\", \"정소희\"],\n",
    "    \"학년\": [1, 2, 3, 4, 2],\n",
    "    \"학점\": [4.2, 3.8, 4.5, 3.9, 3.5],\n",
    "    \"학과\": [\"컴퓨터공학\", \"경영학\", \"전자공학\", \"의학\", \"심리학\"],\n",
    "    \"동아리\": [\"프로그래밍\", \"독서토론\", \"로봇공학\", \"봉사활동\", \"음악감상\"]\n",
    "}\n",
    "\n",
    "## Dataframe 생성\n",
    "df = pd.DataFrame(data)\n",
    "\n",
    "## CSV, JSON 형식으로 저장\n",
    "df.to_csv('students_score.csv')\n",
    "df.to_json('students_score.json', force_ascii=False)\n",
    "\n",
    "\n",
    "## HTML 형식으로 저장\n",
    "html_table = df.to_html()\n",
    "print(html_table)\n",
    "\n",
    "with open('students_score.html', 'w', encoding='utf-8') as f:\n",
    "    f.write(html_table)\n",
    "\n"
   ],
   "metadata": {
    "id": "_dqoWCRoXDrJ",
    "ExecuteTime": {
     "end_time": "2025-10-14T00:51:36.982154Z",
     "start_time": "2025-10-14T00:51:36.937683Z"
    }
   },
   "outputs": [
    {
     "name": "stdout",
     "output_type": "stream",
     "text": [
      "<table border=\"1\" class=\"dataframe\">\n",
      "  <thead>\n",
      "    <tr style=\"text-align: right;\">\n",
      "      <th></th>\n",
      "      <th>이름</th>\n",
      "      <th>학년</th>\n",
      "      <th>학점</th>\n",
      "      <th>학과</th>\n",
      "      <th>동아리</th>\n",
      "    </tr>\n",
      "  </thead>\n",
      "  <tbody>\n",
      "    <tr>\n",
      "      <th>0</th>\n",
      "      <td>김철수</td>\n",
      "      <td>1</td>\n",
      "      <td>4.2</td>\n",
      "      <td>컴퓨터공학</td>\n",
      "      <td>프로그래밍</td>\n",
      "    </tr>\n",
      "    <tr>\n",
      "      <th>1</th>\n",
      "      <td>이영희</td>\n",
      "      <td>2</td>\n",
      "      <td>3.8</td>\n",
      "      <td>경영학</td>\n",
      "      <td>독서토론</td>\n",
      "    </tr>\n",
      "    <tr>\n",
      "      <th>2</th>\n",
      "      <td>박민수</td>\n",
      "      <td>3</td>\n",
      "      <td>4.5</td>\n",
      "      <td>전자공학</td>\n",
      "      <td>로봇공학</td>\n",
      "    </tr>\n",
      "    <tr>\n",
      "      <th>3</th>\n",
      "      <td>최지훈</td>\n",
      "      <td>4</td>\n",
      "      <td>3.9</td>\n",
      "      <td>의학</td>\n",
      "      <td>봉사활동</td>\n",
      "    </tr>\n",
      "    <tr>\n",
      "      <th>4</th>\n",
      "      <td>정소희</td>\n",
      "      <td>2</td>\n",
      "      <td>3.5</td>\n",
      "      <td>심리학</td>\n",
      "      <td>음악감상</td>\n",
      "    </tr>\n",
      "  </tbody>\n",
      "</table>\n"
     ]
    }
   ],
   "execution_count": 39
  },
  {
   "cell_type": "markdown",
   "source": [
    "## 5-6 실습 시나리오"
   ],
   "metadata": {
    "id": "ifBFAyulsdJb"
   }
  },
  {
   "cell_type": "markdown",
   "source": [
    "## 데이터 수집"
   ],
   "metadata": {
    "id": "muFj6okKyXy6"
   }
  },
  {
   "cell_type": "code",
   "source": [
    "import requests\n",
    "\n",
    "url = \"http://apis.data.go.kr/B552584/ArpltnInforInqireSvc/getMinuDustFrcstDspth\"\n",
    "api_key = '[발급받은 인증키]'\n",
    "\n",
    "params = {\n",
    "    'serviceKey': api_key,\n",
    "    'returnType': 'json',\n",
    "    'numOfRows': '100',\n",
    "    'pageNo': '1',\n",
    "    'sidoName': '서울',\n",
    "    'ver': '1.0'\n",
    "}\n",
    "\n",
    "## 데이터 수집\n",
    "response = requests.get(url, params=params)\n",
    "\n",
    "## 호출 성공/실패 출력\n",
    "\n"
   ],
   "metadata": {
    "id": "7yCozmQeXJcO"
   },
   "execution_count": null,
   "outputs": []
  },
  {
   "cell_type": "markdown",
   "source": [
    "## 데이터 프레임 생성"
   ],
   "metadata": {
    "id": "d6mT4IxkySzI"
   }
  },
  {
   "cell_type": "code",
   "source": [
    "import pandas as pd\n",
    "\n",
    "## requests로부터 response, body, item 항목 읽기\n",
    "data = response.json()['response']['body']['items']\n",
    "print(type(data))\n",
    "print(len(data))\n",
    "print(data[0])\n",
    "df = pd.DataFrame(data)\n",
    "df['pm25Grade']\n",
    "\n"
   ],
   "metadata": {
    "id": "HOOo9qTsXLkB",
    "ExecuteTime": {
     "end_time": "2025-10-14T07:52:03.164070Z",
     "start_time": "2025-10-14T07:52:02.594452Z"
    }
   },
   "outputs": [
    {
     "ename": "NameError",
     "evalue": "name 'response' is not defined",
     "output_type": "error",
     "traceback": [
      "\u001B[0;31m---------------------------------------------------------------------------\u001B[0m",
      "\u001B[0;31mNameError\u001B[0m                                 Traceback (most recent call last)",
      "Cell \u001B[0;32mIn[1], line 4\u001B[0m\n\u001B[1;32m      1\u001B[0m \u001B[38;5;28;01mimport\u001B[39;00m\u001B[38;5;250m \u001B[39m\u001B[38;5;21;01mpandas\u001B[39;00m\u001B[38;5;250m \u001B[39m\u001B[38;5;28;01mas\u001B[39;00m\u001B[38;5;250m \u001B[39m\u001B[38;5;21;01mpd\u001B[39;00m\n\u001B[1;32m      3\u001B[0m \u001B[38;5;66;03m## requests로부터 response, body, item 항목 읽기\u001B[39;00m\n\u001B[0;32m----> 4\u001B[0m data \u001B[38;5;241m=\u001B[39m \u001B[43mresponse\u001B[49m\u001B[38;5;241m.\u001B[39mjson()[\u001B[38;5;124m'\u001B[39m\u001B[38;5;124mresponse\u001B[39m\u001B[38;5;124m'\u001B[39m][\u001B[38;5;124m'\u001B[39m\u001B[38;5;124mbody\u001B[39m\u001B[38;5;124m'\u001B[39m][\u001B[38;5;124m'\u001B[39m\u001B[38;5;124mitems\u001B[39m\u001B[38;5;124m'\u001B[39m]\n\u001B[1;32m      5\u001B[0m \u001B[38;5;28mprint\u001B[39m(\u001B[38;5;28mtype\u001B[39m(data))\n\u001B[1;32m      6\u001B[0m \u001B[38;5;28mprint\u001B[39m(\u001B[38;5;28mlen\u001B[39m(data))\n",
      "\u001B[0;31mNameError\u001B[0m: name 'response' is not defined"
     ]
    }
   ],
   "execution_count": 1
  },
  {
   "cell_type": "markdown",
   "source": [
    "## 다양항 형식으로 데이터 저장\n"
   ],
   "metadata": {
    "id": "vVG0HYb0ymeM"
   }
  },
  {
   "cell_type": "code",
   "source": [
    "## CSV 형식 데이터 저장\n",
    "df.to_csv('air_pollution.csv', index=False, encoding='utf-8')\n",
    "\n",
    "## JSON 형식 데이터 저장\n",
    "df.to_json('air_pollution.json', indent=4, force_ascii=False)\n",
    "\n",
    "## EXCEL 형식 데이터 저장\n",
    "df.to_excel('air_pollution.xlsx', index=False )\n",
    "\n",
    "## HTML 형식 데이터 저장\n",
    "df.to_html('air_pollution.html')\n"
   ],
   "metadata": {
    "id": "HW1ZodpgXNhG"
   },
   "execution_count": null,
   "outputs": []
  }
 ]
}
